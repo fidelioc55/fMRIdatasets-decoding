{
 "cells": [
  {
   "cell_type": "code",
   "execution_count": 1,
   "metadata": {},
   "outputs": [],
   "source": [
    "import numpy as np\n",
    "import scipy\n",
    "import scipy.io as sio\n",
    "import matplotlib.pyplot as plt\n",
    "import nibabel as nib\n",
    "\n",
    "import os\n",
    "from os.path import join as opj\n",
    "from os.path import join, exists, split\n",
    "import time\n",
    "import urllib.request\n",
    "import warnings\n",
    "from pprint import pprint\n",
    "import zipfile\n",
    "import glob\n",
    "warnings.filterwarnings('ignore')\n",
    "from transformers import AutoFeatureExtractor, ClapModel\n",
    "import torch\n",
    "import torchaudio\n",
    "\n",
    "from sklearn.linear_model import LogisticRegression, RidgeCV, Ridge\n",
    "from sklearn.metrics import classification_report\n",
    "from sklearn.preprocessing import LabelEncoder\n",
    "\n",
    "\n",
    "import pandas as pd\n",
    "from nilearn import maskers\n",
    "from nilearn import plotting\n",
    "import tqdm\n",
    "\n",
    "from nilearn.glm.first_level import FirstLevelModel\n",
    "from nilearn.image import concat_imgs, mean_img\n",
    "import matplotlib.pyplot as plt\n",
    "import nilearn\n",
    "from nilearn.plotting import plot_design_matrix\n",
    "from nilearn.plotting import plot_contrast_matrix\n",
    "from importlib import reload # python 2.7 does not require this\n",
    "import pickle\n",
    "# from nltools.data import Brain_Data, Adjacency\n",
    "# from nltools.stats import align\n",
    "\n",
    "import seaborn as sns\n",
    "import IPython.display as ipd\n",
    "from sklearn.metrics import confusion_matrix\n",
    "\n",
    "from diffusers import MusicLDMPipeline, AudioPipelineOutput, StableAudioPipeline\n",
    "# from diffusers import DiffusionPipeline, AudioPipelineOutput\n",
    "from IPython.display import Audio\n",
    "\n",
    "\n",
    "os.environ[\"TOKENIZERS_PARALLELISM\"] = \"false\""
   ]
  },
  {
   "cell_type": "code",
   "execution_count": null,
   "metadata": {},
   "outputs": [],
   "source": [
    "BASE_PATH_LOAD = '*'\n",
    "\n",
    "with open(BASE_PATH_LOAD + '/working_data_dict_vae' + '.pkl', 'rb') as file_to_read:\n",
    "    working_data_dict = pickle.load(file_to_read)\n",
    "\n",
    "\n",
    "def load_transformed_data(data_folder):\n",
    "    # Initialize an empty dictionary to store the data\n",
    "    loaded_data_dict = {}\n",
    "\n",
    "    # Loop through all files in the data folder\n",
    "    for filename in os.listdir(data_folder):\n",
    "        # Construct the full path of the file\n",
    "        file_path = os.path.join(data_folder, filename)\n",
    "        \n",
    "        # Extract the subject ID and key from the filename\n",
    "        # Assuming filenames are in the format 'sub_key.ext'\n",
    "        sub, key = filename.split('_', 1)\n",
    "        key = key.rsplit('.', 1)[0]  # Removes extension part to get the key\n",
    "        \n",
    "        #repeat\n",
    "        key = key.rsplit('.', 1)[0]  # Removes extension part to get the key\n",
    "\n",
    "        # Initialize sub dictionary if it doesn't exist\n",
    "        if sub not in loaded_data_dict:\n",
    "            loaded_data_dict[sub] = {}\n",
    "\n",
    "        # Determine the file type and load accordingly\n",
    "        if filename.endswith('.npy'):\n",
    "            loaded_data_dict[sub][key] = np.load(file_path)\n",
    "        elif filename.endswith('.pkl'):\n",
    "            with open(file_path, 'rb') as file:\n",
    "                loaded_data_dict[sub][key] = pickle.load(file)\n",
    "\n",
    "        print(f\"Loaded {key} from {file_path}\")\n",
    "\n",
    "    return loaded_data_dict\n",
    "\n",
    "\n",
    "# -----------------------------------------------------------------------------------------\n",
    "transform_masking=True\n",
    "subject_ids = [\"sub-001\", \"sub-002\", \"sub-003\", \"sub-004\", \"sub-005\"]\n",
    "\n",
    "# mask_path = \"mask_to_save/mask_top_512_voxels.nii.gz\"\n",
    "mask_path = BASE_PATH_LOAD + \"/mask_him_005.nii.gz\"\n",
    "# mask_path = \"mask_01.nii.gz\"\n",
    "if transform_masking:\n",
    "    base_masker=working_data_dict[\"sub-001\"][\"masker\"]\n",
    "    selected_indices=base_masker.transform(nib.load(mask_path))\n",
    "    for sub in subject_ids:\n",
    "        working_data_dict[sub][\"train_fmri_avg\"]=working_data_dict[sub][\"train_fmri\"].squeeze()[:,selected_indices.squeeze().astype(np.uint8)]\n",
    "        working_data_dict[sub][\"test_fmri_avg\"]=working_data_dict[sub][\"test_fmri\"].squeeze()[:,selected_indices.squeeze().astype(np.uint8)]\n",
    "       \n",
    "if transform_masking:\n",
    "    # Ensure the data directory exists\n",
    "    data_folder = 'data'\n",
    "    os.makedirs(data_folder, exist_ok=True)\n",
    "\n",
    "    # Assuming working_data_dict is your main dictionary and 'sub' is defined\n",
    "    for sub in subject_ids:\n",
    "        for key, value in working_data_dict[sub].items():\n",
    "            # Convert the value to a numpy array if it's not already one \n",
    "            print(key)\n",
    "\n",
    "            # Define the path for the output file\n",
    "            file_path = os.path.join(data_folder, f'{sub}_{key}.npy')\n",
    "\n",
    "            # Check if the value is a numpy array\n",
    "            if isinstance(value, np.ndarray):\n",
    "                # Save the numpy array to a file with .npy extension\n",
    "                np.save(file_path + '.npy', value)\n",
    "                print(f\"Saved {key} as an array to {file_path}.npy\")\n",
    "            else:\n",
    "                # Save other types of data using pickle with .pkl extension\n",
    "                with open(file_path + '.pkl', 'wb') as file:\n",
    "                    pickle.dump(value, file, protocol=pickle.HIGHEST_PROTOCOL)\n",
    "                print(f\"Saved {key} using pickle to {file_path}.pkl\")\n",
    "\n",
    "            print(f\"Saved {key} to {file_path}\")      \n",
    "\n",
    "else:\n",
    "    # Use the function\n",
    "    data_folder = 'data'  # Specify the data folder path\n",
    "    working_data_dict = load_transformed_data(data_folder)\n",
    "\n",
    "\n",
    "# -----------------------------------------------------------------------------------------\n",
    "df_captions = pd.read_csv(BASE_PATH_LOAD + '/brain2music-captions.csv')\n",
    "print(df_captions.head())\n",
    "captions_array = df_captions.to_numpy()\n",
    "caption_dict = {item[0].split('_')[0]: item[1] for item in captions_array}\n",
    "\n",
    "for subj in subject_ids:\n",
    "\n",
    "    train_stim_name_list = working_data_dict[subj]['train_stim_name']\n",
    "    train_stim_caption_list = []\n",
    "\n",
    "    for file_path in train_stim_name_list:\n",
    "        genre_number = file_path.split('/')[-1].replace('.wav', '')\n",
    "        caption = caption_dict.get(genre_number, \"Caption not found\")\n",
    "        train_stim_caption_list.append(caption)\n",
    "\n",
    "    working_data_dict[subj]['train_stim_caption'] = train_stim_caption_list\n",
    "\n",
    "\n",
    "for subj in subject_ids:\n",
    "\n",
    "    test_stim_name_list = working_data_dict[subj]['test_stim_name']\n",
    "    test_stim_caption_list = []\n",
    "\n",
    "    for file_path in test_stim_name_list:\n",
    "        genre_number = file_path.split('/')[-1].replace('.wav', '')\n",
    "        caption = caption_dict.get(genre_number, \"Caption not found\")\n",
    "        test_stim_caption_list.append(caption)\n",
    "\n",
    "    working_data_dict[subj]['test_stim_caption'] = test_stim_caption_list\n",
    "\n",
    "\n",
    "# -----------------------------------------------------------------------------------------\n",
    "\n",
    "def process_data(data_dict, key_suffix, features_key, genre_key, stim_name_key, fmri_key, stim_caption_key, feat_vae_key):\n",
    "    # Create DataFrame for fMRI and stimulus names\n",
    "    df = pd.DataFrame(data_dict[fmri_key], dtype=float)\n",
    "    df['Stimulus'] = data_dict[stim_name_key]\n",
    "    \n",
    "    # Group by 'Caption' and calculate the mean for fMRI data\n",
    "    fmri_avg = df.groupby('Stimulus').mean().reset_index()\n",
    "    \n",
    "    # Create DataFrame for audio features and stimulus names\n",
    "    df_features = pd.DataFrame(data_dict[features_key], dtype=float)\n",
    "    df_features['Stimulus'] = data_dict[stim_name_key]\n",
    "    \n",
    "    # Group by 'Caption' and calculate the mean for audio features\n",
    "    features_avg = df_features.groupby('Stimulus').mean().reset_index()\n",
    "    \n",
    "    # Handle genres (assuming genre data is aligned with stimuli names)\n",
    "    df_genre = pd.DataFrame(data_dict[genre_key], columns=['Genre'])\n",
    "    df_genre['Stimulus'] = data_dict[stim_name_key]\n",
    "    \n",
    "    # Since genre should be consistent for the same caption, we can take the first occurrence\n",
    "    genre_avg = df_genre.groupby('Stimulus').first().reset_index()\n",
    "\n",
    "    # Handle genres (assuming genre data is aligned with stimuli names)\n",
    "    df_caption = pd.DataFrame(data_dict[stim_caption_key], columns=['Caption'])\n",
    "    df_caption['Stimulus'] = data_dict[stim_name_key]\n",
    "    \n",
    "    # Since genre should be consistent for the same caption, we can take the first occurrence\n",
    "    caption_avg = df_caption.groupby('Stimulus').first().reset_index()\n",
    "\n",
    "    df_vae = pd.DataFrame(data_dict[feat_vae_key].reshape(data_dict[feat_vae_key].shape[0],-1), dtype=float)\n",
    "    df_vae['Stimulus'] = data_dict[stim_name_key]\n",
    "    \n",
    "    vae_avg = df_vae.groupby('Stimulus').mean().reset_index()\n",
    "    \n",
    "    return {\n",
    "        key_suffix + '_audio_feat': features_avg.drop(columns='Stimulus').values,\n",
    "        key_suffix + '_genre': genre_avg['Genre'].values,\n",
    "        key_suffix + '_stim_name_avg': fmri_avg['Stimulus'].values,\n",
    "        key_suffix + '_caption_avg': caption_avg['Caption'].values,\n",
    "        key_suffix + '_fmri_avg': fmri_avg.drop(columns='Stimulus').values,\n",
    "        key_suffix + '_vae_avg': vae_avg.drop(columns='Stimulus').values\n",
    "    }\n",
    "\n",
    "\n",
    "working_data_dict_avg = {}\n",
    "for sub in subject_ids:\n",
    "    working_data_dict_avg[sub] = {}\n",
    "\n",
    "    # Process training data\n",
    "    working_data_dict_avg[sub].update(\n",
    "        process_data(\n",
    "            working_data_dict[sub],\n",
    "            'train',\n",
    "            'train_audio_feat',\n",
    "            'train_genre',\n",
    "            'train_stim_name',\n",
    "            'train_fmri_avg',\n",
    "            'train_stim_caption',\n",
    "            'train_audio_vae'\n",
    "        )\n",
    "    )\n",
    "\n",
    "    # Process testing data\n",
    "    working_data_dict_avg[sub].update(\n",
    "        process_data(\n",
    "            working_data_dict[sub],\n",
    "            'test',\n",
    "            'test_audio_feat',\n",
    "            'test_genre',\n",
    "            'test_stim_name',\n",
    "            'test_fmri_avg',\n",
    "            'test_stim_caption',\n",
    "            'test_audio_vae'\n",
    "        )\n",
    "    )\n",
    "\n",
    "\n",
    "\n"
   ]
  },
  {
   "cell_type": "code",
   "execution_count": 3,
   "metadata": {},
   "outputs": [],
   "source": [
    "train_audio_feat_aligned = np.concatenate([working_data_dict_avg[sub][\"train_audio_feat\"] for sub in subject_ids],0)\n",
    "test_audio_feat_aligned = np.concatenate([working_data_dict_avg[sub][\"test_audio_feat\"] for sub in subject_ids],0)\n",
    "\n",
    "train_genre_aligned = np.concatenate([working_data_dict_avg[sub][\"train_genre\"] for sub in subject_ids],0)\n",
    "test_genre_aligned = np.concatenate([working_data_dict_avg[sub][\"test_genre\"] for sub in subject_ids],0)\n",
    "\n",
    "train_stim_name_avg_aligned = np.concatenate([working_data_dict_avg[sub][\"train_stim_name_avg\"] for sub in subject_ids],0)\n",
    "test_stim_name_avg_aligned = np.concatenate([working_data_dict_avg[sub][\"test_stim_name_avg\"] for sub in subject_ids],0)\n",
    "\n",
    "X_train_aligned = np.concatenate([working_data_dict_avg[sub][\"train_fmri_avg\"] for sub in subject_ids],0)\n",
    "X_test_aligned = np.concatenate([working_data_dict_avg[sub][\"test_fmri_avg\"] for sub in subject_ids],0)\n",
    "\n",
    "train_vae_avg_aligned = np.concatenate([working_data_dict_avg[sub][\"train_vae_avg\"] for sub in subject_ids],0)\n",
    "test_vae_avg_aligned = np.concatenate([working_data_dict_avg[sub][\"test_vae_avg\"] for sub in subject_ids],0)"
   ]
  },
  {
   "cell_type": "code",
   "execution_count": 4,
   "metadata": {},
   "outputs": [
    {
     "name": "stderr",
     "output_type": "stream",
     "text": [
      "100%|██████████| 5/5 [00:00<00:00, 90394.48it/s]\n"
     ]
    }
   ],
   "source": [
    "subject_train_ids=[]\n",
    "subject_test_ids=[]\n",
    "\n",
    "for p in tqdm.tqdm(subject_ids):\n",
    "\n",
    "    subject_train_ids+=[p]*len(working_data_dict_avg[p][\"train_fmri_avg\"])\n",
    "    subject_test_ids+=[p]*len(working_data_dict_avg[p][\"test_fmri_avg\"])"
   ]
  },
  {
   "cell_type": "code",
   "execution_count": 5,
   "metadata": {},
   "outputs": [
    {
     "name": "stdout",
     "output_type": "stream",
     "text": [
      "(2400, 3043)\n",
      "(300, 3043)\n",
      "(2400, 512)\n",
      "(300, 512)\n",
      "2400\n",
      "300\n"
     ]
    }
   ],
   "source": [
    "print(X_train_aligned.shape)\n",
    "print(X_test_aligned.shape)\n",
    "print(train_audio_feat_aligned.shape)\n",
    "print(test_audio_feat_aligned.shape)\n",
    "print(len(subject_train_ids))\n",
    "print(len(subject_test_ids))"
   ]
  },
  {
   "cell_type": "code",
   "execution_count": 6,
   "metadata": {},
   "outputs": [
    {
     "name": "stdout",
     "output_type": "stream",
     "text": [
      "0.0018652336098391941\n",
      "-0.0005942661985135746\n",
      "0.5223170936565312\n",
      "0.044180970626801666\n"
     ]
    }
   ],
   "source": [
    "print(X_train_aligned.mean())\n",
    "print(train_audio_feat_aligned.mean())\n",
    "print(X_train_aligned.std())\n",
    "print(train_audio_feat_aligned.std())"
   ]
  },
  {
   "cell_type": "code",
   "execution_count": 7,
   "metadata": {},
   "outputs": [],
   "source": [
    "subject_train_ids = [int(i[-1]) for i in subject_train_ids]\n",
    "subject_test_ids = [int(i[-1]) for i in subject_test_ids]"
   ]
  },
  {
   "cell_type": "code",
   "execution_count": null,
   "metadata": {},
   "outputs": [],
   "source": [
    "import torch\n",
    "import torch.nn as nn\n",
    "import torch.optim as optim\n",
    "import torch.nn.functional as F\n",
    "import pytorch_lightning as pl\n",
    "from pytorch_lightning.callbacks import EarlyStopping\n",
    "\n",
    "class Encoder(nn.Module):\n",
    "    def __init__(self, input_dim, hidden_dims, output_dim,act_fn=nn.Identity,alignment_layers_keys=[1,2,5,7],common_dim=1024):\n",
    "        super(Encoder, self).__init__()\n",
    "        self.common_dim=common_dim\n",
    "        self.alignment_layers={}\n",
    "        for k in alignment_layers_keys:\n",
    "            self.alignment_layers[k]=nn.Linear(input_dim, common_dim)      # Lazy\n",
    "        \n",
    "        layers = []\n",
    "        prev_dim = input_dim\n",
    "        # layers.append(nn.LayerNorm(common_dim))     # TODO: remove LayerNorm\n",
    "        if len(hidden_dims):\n",
    "\n",
    "            for hidden_dim in hidden_dims:\n",
    "                layers.append(nn.Linear(common_dim, hidden_dim))\n",
    "                layers.append(act_fn())     # TODO: mettere identity\n",
    "            layers.append(nn.Linear(hidden_dim, output_dim))\n",
    "           \n",
    "        else:\n",
    "            layers.append(act_fn())\n",
    "            layers.append(nn.Linear(common_dim, output_dim))\n",
    "        self.net = nn.Sequential(*layers)   \n",
    "\n",
    "        \n",
    "    def _apply(self, fn):\n",
    "        super(Encoder, self)._apply(fn)        \n",
    "        for k,v in self.alignment_layers.items():\n",
    "            self.alignment_layers[k]._apply(fn)\n",
    "            \n",
    "    \n",
    "    def forward(self, x, k=None):\n",
    "        \n",
    "        def apply_alignment_layers(x, k, alignment_layers):\n",
    "            # Create an empty tensor to store the results\n",
    "            result = torch.empty_like(x)\n",
    "            result = result[:,:self.common_dim]\n",
    "            \n",
    "            # Iterate through each unique key in k\n",
    "            for key in k.unique():\n",
    "                # Create a mask for all elements that match the current key\n",
    "                mask = (k == key.item())\n",
    "                \n",
    "                # Apply the corresponding alignment layer to the masked elements\n",
    "                result[mask] = alignment_layers[key.item()](x[mask])\n",
    "            \n",
    "            return result\n",
    "        \n",
    "        if k is None:\n",
    "            k=torch.ones(len(x))\n",
    "        # Apply alignment layers to x using the custom function\n",
    "        x = apply_alignment_layers(x, k, self.alignment_layers)\n",
    "        # x = self.alignment_layers[k](x)\n",
    "        return self.net(x)\n",
    "    \n",
    "\n",
    "# Funzione per calcolare la similarità coseno\n",
    "def cosine_similarity_matrix(A, B):\n",
    "    A_norm = F.normalize(A, dim=1)\n",
    "    B_norm = F.normalize(B, dim=1)\n",
    "    return torch.mm(A_norm, B_norm.T)\n",
    "\n",
    "# NT-Xent Loss (Contrastive)\n",
    "def contrastive_loss_nt(S, tau):\n",
    "    S_exp = torch.exp(S / tau)\n",
    "    loss = -torch.log(torch.diag(S_exp) / S_exp.sum(dim=1))\n",
    "    return loss.mean()\n",
    "\n",
    "def contrastive_loss(z_i, z_j, tau):\n",
    "    z_i = nn.functional.normalize(z_i, dim=1)\n",
    "    z_j = nn.functional.normalize(z_j, dim=1)\n",
    "    logits = (z_i @ z_j.T) / tau\n",
    "    similarities = z_j @ z_j.T\n",
    "    # targets = torch.nn.functional.softmax(similarities * self.temperature, dim=-1)\n",
    "    targets = torch.arange(logits.shape[0]).long().to(logits.device)\n",
    "    loss = torch.nn.functional.cross_entropy(logits, targets)\n",
    "    return loss\n",
    "\n",
    "tau = 0.10\n",
    "\n",
    "class ContrastiveOTModel(pl.LightningModule):\n",
    "    def __init__(self, input_dim, hidden_dims, output_dim, common_dim=1024, alignment_layers_keys=[1,2,5,7]):\n",
    "        super().__init__()\n",
    "        self.encoder = Encoder(input_dim, hidden_dims, output_dim, alignment_layers_keys=alignment_layers_keys, common_dim=common_dim)\n",
    "        self.dropout = nn.Dropout(p=0.5)    \n",
    "        self.tau = tau\n",
    "\n",
    "        self.train_losses = []\n",
    "        self.train_contrastive_loss=[]\n",
    "        self.val_losses = []\n",
    "        self.val_contrastive_loss=[]\n",
    "    \n",
    "        self.train_history={}\n",
    "        self.val_history={}\n",
    "\n",
    "        self.train_history[\"train_loss\"]=[]\n",
    "        self.train_history[\"train_contrastive_loss\"]=[]\n",
    "        self.val_history[\"val_loss\"]=[]\n",
    "        self.val_history[\"val_contrastive_loss\"]=[]\n",
    "\n",
    "    def forward(self, x, **kwargs):\n",
    "        return self.encoder(x, **kwargs)\n",
    "\n",
    "    def loss_fn(self, x_latent, y_latent):\n",
    "        S = cosine_similarity_matrix(x_latent, y_latent)\n",
    "        contrastive_loss_value = contrastive_loss_nt(S, self.tau) \n",
    "        return contrastive_loss_value, contrastive_loss_value\n",
    "    \n",
    "    def compute_loss(self, x, y, idx):\n",
    "        x_latent = self(x, k=idx)\n",
    "        y_latent = y  \n",
    "        return self.loss_fn(x_latent, y_latent)\n",
    "\n",
    "    def training_step(self, batch, batch_idx):\n",
    "        x, y, idx = batch  \n",
    "        loss, contrastive_loss_value = self.compute_loss(x, y, idx)\n",
    "        self.log(\"train_loss\", loss, on_epoch=True, prog_bar=True)\n",
    "        self.log(\"train_contrastive_loss\", contrastive_loss_value, on_epoch=True)\n",
    "\n",
    "        self.train_losses.append(loss.item())\n",
    "        self.train_contrastive_loss.append(contrastive_loss_value.item())\n",
    "        return loss\n",
    "\n",
    "    def validation_step(self, batch, batch_idx):\n",
    "        x, y, idx = batch\n",
    "        loss, contrastive_loss_value = self.compute_loss(x, y, idx)\n",
    "        self.log(\"val_loss\", loss, on_epoch=True, prog_bar=True)\n",
    "        self.log(\"val_contrastive_loss\", contrastive_loss_value, on_epoch=True)\n",
    "\n",
    "        self.val_losses.append(loss.item())\n",
    "        self.val_contrastive_loss.append(contrastive_loss_value.item())\n",
    "        return loss\n",
    "    \n",
    "    def on_train_epoch_end(self) -> None:\n",
    "        self.train_history[\"train_loss\"].append(np.mean(self.train_losses))\n",
    "        self.train_history[\"train_contrastive_loss\"].append(np.mean(self.train_contrastive_loss))\n",
    "        self.train_losses = []\n",
    "        self.train_contrastive_loss=[]\n",
    "        return super().on_train_epoch_end()\n",
    "    \n",
    "    def on_validation_epoch_end(self) -> None:\n",
    "        self.val_history[\"val_loss\"].append(np.mean(self.val_losses))\n",
    "        self.val_history[\"val_contrastive_loss\"].append(np.mean(self.val_contrastive_loss))\n",
    "        self.val_losses = []\n",
    "        self.val_contrastive_loss=[]\n",
    "        return super().on_validation_epoch_end()\n",
    "\n",
    "    def configure_optimizers(self):\n",
    "        optimizer = torch.optim.AdamW(self.parameters(), lr=1e-3)\n",
    "        scheduler = torch.optim.lr_scheduler.ReduceLROnPlateau(optimizer, mode=\"min\", factor=0.5, patience=10, threshold=0.05, verbose=True)\n",
    "        return {\"optimizer\": optimizer, \"lr_scheduler\": scheduler, \"monitor\": \"val_loss\"}"
   ]
  },
  {
   "cell_type": "code",
   "execution_count": 26,
   "metadata": {},
   "outputs": [
    {
     "name": "stdout",
     "output_type": "stream",
     "text": [
      "torch.Size([512, 3043]) torch.Size([512, 512])\n"
     ]
    }
   ],
   "source": [
    "from torch.utils.data import Dataset, DataLoader\n",
    "\n",
    "train_dataset = torch.utils.data.TensorDataset(torch.tensor(X_train_aligned).float(),torch.tensor(train_audio_feat_aligned).squeeze(1).float(), torch.tensor(subject_train_ids))\n",
    "test_dataset = torch.utils.data.TensorDataset(torch.tensor(X_test_aligned).float(),torch.tensor(test_audio_feat_aligned).squeeze(1).float(), torch.tensor(subject_test_ids))\n",
    "\n",
    "x, y, idx = train_dataset[0]  \n",
    "BS = 512 \n",
    "BS_test = int(BS/2) \n",
    "\n",
    "clip_train_dataloader = DataLoader(train_dataset, batch_size=BS, shuffle=True)\n",
    "clip_test_dataloader = DataLoader(test_dataset, batch_size=BS_test, shuffle=False)\n",
    "\n",
    "x, y, idx = next(iter(clip_train_dataloader))\n",
    "print(x.shape, y.shape)"
   ]
  },
  {
   "cell_type": "code",
   "execution_count": null,
   "metadata": {},
   "outputs": [],
   "source": [
    "pl.seed_everything(55, workers=True)      # 55, 999, 42, 1\n",
    "\n",
    "# Configurazione PyTorch Lightning\n",
    "brain_model = ContrastiveOTModel(input_dim=X_train_aligned.shape[-1], hidden_dims=[512],       # 512 valore migliore\n",
    "                                 output_dim=512, common_dim=3043, alignment_layers_keys=[1,2,3,4,5])\n",
    "\n",
    "early_stop_callback = EarlyStopping(monitor=\"val_loss\", min_delta=0.09, patience=9, verbose=True, mode=\"min\")\n",
    "trainer = pl.Trainer(max_epochs=100, devices=[2], callbacks=[early_stop_callback])\n",
    "trainer.fit(brain_model, clip_train_dataloader, clip_test_dataloader)\n"
   ]
  },
  {
   "cell_type": "code",
   "execution_count": 30,
   "metadata": {},
   "outputs": [
    {
     "data": {
      "text/plain": [
       "[<matplotlib.lines.Line2D at 0x725dda92fd90>]"
      ]
     },
     "execution_count": 30,
     "metadata": {},
     "output_type": "execute_result"
    },
    {
     "data": {
      "image/png": "[encoded data removed]",
      "text/plain": [
       "<Figure size 640x480 with 1 Axes>"
      ]
     },
     "metadata": {},
     "output_type": "display_data"
    }
   ],
   "source": [
    "plt.plot(brain_model.train_history[\"train_contrastive_loss\"], label='train')\n",
    "plt.plot(brain_model.val_history[\"val_contrastive_loss\"], label='val')"
   ]
  },
  {
   "cell_type": "code",
   "execution_count": 31,
   "metadata": {},
   "outputs": [
    {
     "name": "stderr",
     "output_type": "stream",
     "text": [
      "100%|██████████| 2/2 [00:00<00:00, 81.89it/s]\n"
     ]
    }
   ],
   "source": [
    "device='cuda:2'\n",
    "x,y,k=next(iter(clip_test_dataloader))\n",
    "\n",
    "y_pred=[]\n",
    "y_true=[]\n",
    "with torch.no_grad():\n",
    "    for x,y,k in tqdm.tqdm(clip_test_dataloader):\n",
    "        y_hat=brain_model(x,k=k).to(device)\n",
    "        y_true.append(y)\n",
    "        y_pred.append(y_hat)\n",
    "y_pred=torch.cat(y_pred,0)\n",
    "y_true=torch.cat(y_true,0)"
   ]
  },
  {
   "cell_type": "code",
   "execution_count": 32,
   "metadata": {},
   "outputs": [
    {
     "data": {
      "text/plain": [
       "(torch.Size([300, 512]), torch.Size([300, 512]))"
      ]
     },
     "execution_count": 32,
     "metadata": {},
     "output_type": "execute_result"
    }
   ],
   "source": [
    "y_pred.shape, y_true.shape"
   ]
  },
  {
   "cell_type": "code",
   "execution_count": 33,
   "metadata": {},
   "outputs": [
    {
     "data": {
      "text/plain": [
       "(tensor(0.0019, device='cuda:2'),\n",
       " tensor(-0.0004),\n",
       " tensor(0.1043, device='cuda:2'),\n",
       " tensor(0.0433))"
      ]
     },
     "execution_count": 33,
     "metadata": {},
     "output_type": "execute_result"
    }
   ],
   "source": [
    "y_pred.mean(), y_true.mean(), y_pred.std(), y_true.std()"
   ]
  },
  {
   "cell_type": "code",
   "execution_count": null,
   "metadata": {},
   "outputs": [],
   "source": [
    "from sklearn.neighbors import NearestNeighbors\n",
    "\n",
    "samples_per_subject = 60  \n",
    "top1_count_list = []\n",
    "top3_count_list = []\n",
    "\n",
    "# subject_idx = 1\n",
    "for subject_idx in range(4):\n",
    "    start_idx = subject_idx * samples_per_subject\n",
    "    end_idx = (subject_idx + 1) * samples_per_subject\n",
    "\n",
    "    y_true_np = y_true[start_idx:end_idx].cpu().numpy()\n",
    "    y_pred_np = y_pred[start_idx:end_idx].cpu().numpy()\n",
    "    nbrs = NearestNeighbors(n_neighbors=3, metric='cosine').fit(y_true[0:samples_per_subject].cpu().numpy())\n",
    "\n",
    "    distances, top_indices = nbrs.kneighbors(y_pred_np)\n",
    "    true_indices = torch.arange(len(y_true_np)).cpu().numpy()\n",
    "\n",
    "    # Calcoliamo il numero di volte in cui il candidato stimato è nella top-1 e top-3\n",
    "    top1_count = (top_indices[:, 0] == true_indices).sum()\n",
    "    top3_count = sum(true_idx in top_indices[i] for i, true_idx in enumerate(true_indices))\n",
    "\n",
    "    print(f\"Soggetto {subject_idx + 1}:\")\n",
    "    print(f\"Top-1 accuracy: {top1_count}/{len(y_true_np)} ({top1_count / len(y_true_np) * 100:.2f}%)\")\n",
    "    print(f\"Top-3 accuracy: {top3_count}/{len(y_true_np)} ({top3_count / len(y_true_np) * 100:.2f}%)\")\n",
    "\n",
    "    top1_count_list.append(top1_count)\n",
    "    top3_count_list.append(top3_count)\n",
    "\n",
    "print(\"---------------------------\")\n",
    "print(\"Top-1 accuracy:\", sum(top1_count_list) / len(y_true) * 100)\n",
    "print(\"Top-3 accuracy:\", sum(top3_count_list) / len(y_true) * 100)"
   ]
  },
  {
   "cell_type": "markdown",
   "metadata": {},
   "source": [
    "## Ridge"
   ]
  },
  {
   "cell_type": "code",
   "execution_count": 20,
   "metadata": {},
   "outputs": [],
   "source": [
    "X_train=X_train_aligned.copy()\n",
    "X_test=X_test_aligned.copy()\n",
    "\n",
    "device = torch.device(\"cuda:2\" if torch.cuda.is_available() else \"cpu\")\n",
    "\n",
    "X_train_torch = torch.tensor(X_train, dtype=torch.float32).to(device)\n",
    "X_test_torch = torch.tensor(X_test, dtype=torch.float32).to(device)\n",
    "train_audio_feat_torch = torch.tensor(train_audio_feat_aligned, dtype=torch.float32).to(device)\n",
    "\n",
    "# Modello Ridge per mappare brain activity → latent space\n",
    "brain_to_latent = Ridge(alpha=20)\n",
    "brain_to_latent.fit(X_train, train_audio_feat_aligned)\n",
    "audio_feat_pred_test = brain_to_latent.predict(X_test)\n",
    "audio_feat_pred_test_torch = torch.tensor(audio_feat_pred_test, dtype=torch.float32).to(device)"
   ]
  },
  {
   "cell_type": "code",
   "execution_count": 21,
   "metadata": {},
   "outputs": [],
   "source": [
    "from himalaya.ridge import RidgeCV\n",
    "from himalaya.kernel_ridge import KernelRidgeCV\n",
    "from himalaya.backend import set_backend\n",
    "\n",
    "X_train=X_train_aligned.copy()\n",
    "X_test=X_test_aligned.copy()\n",
    "\n",
    "# vm = RidgeCV(alphas=[20], fit_intercept=True) \n",
    "vm = RidgeCV(alphas=[20])  \n",
    "device_id = 2\n",
    "backend = set_backend(\"torch_cuda\")\n",
    "X_train_sbj = backend.asarray(torch.tensor(X_train, dtype=torch.float32).to(f'cuda:{device_id}'))\n",
    "Y_train_sbj = backend.asarray(torch.tensor(train_audio_feat_aligned, dtype=torch.float32).to(f'cuda:{device_id}')) \n",
    "X_test_sbj = backend.asarray(torch.tensor(X_test, dtype=torch.float32).to(f'cuda:{device_id}'))     \n",
    "\n",
    "vm.fit(X_train_sbj, Y_train_sbj)\n",
    "y_pred_sbj = vm.predict(X_test_sbj)"
   ]
  },
  {
   "cell_type": "code",
   "execution_count": 22,
   "metadata": {},
   "outputs": [
    {
     "data": {
      "text/plain": [
       "torch.Size([300, 512])"
      ]
     },
     "execution_count": 22,
     "metadata": {},
     "output_type": "execute_result"
    }
   ],
   "source": [
    "y_pred_sbj.shape"
   ]
  },
  {
   "cell_type": "code",
   "execution_count": null,
   "metadata": {},
   "outputs": [],
   "source": [
    "subject_idx = 1\n",
    "start_idx = subject_idx * samples_per_subject\n",
    "end_idx = (subject_idx + 1) * samples_per_subject\n",
    "\n",
    "y_true_base = test_audio_feat_aligned[start_idx:end_idx]\n",
    "y_pred_base = y_pred_sbj[start_idx:end_idx]\n",
    "nbrs_base = NearestNeighbors(n_neighbors=3, metric='cosine').fit(y_true_base[0:samples_per_subject])\n",
    "\n",
    "distances, top_indices_base = nbrs_base.kneighbors(y_pred_base)\n",
    "true_indices_base = torch.arange(len(y_true_base)).cpu().numpy()\n",
    "\n",
    "# Calcoliamo il numero di volte in cui il candidato stimato è nella top-1 e top-3\n",
    "top1_count_base = (top_indices_base[:, 0] == true_indices_base).sum()\n",
    "top3_count_base = sum(true_idx in top_indices_base[i] for i, true_idx in enumerate(true_indices_base))\n",
    "\n",
    "print(f\"Soggetto {subject_idx + 1}:\")\n",
    "print(f\"Top-1 accuracy: {top1_count_base}/{len(y_true_base)} ({top1_count_base / len(y_true_base) * 100:.2f}%)\")\n",
    "print(f\"Top-3 accuracy: {top3_count_base}/{len(y_true_base)} ({top3_count_base / len(y_true_base) * 100:.2f}%)\")"
   ]
  },
  {
   "cell_type": "markdown",
   "metadata": {},
   "source": [
    "## Linear VS Non Linear"
   ]
  },
  {
   "cell_type": "code",
   "execution_count": null,
   "metadata": {},
   "outputs": [],
   "source": [
    "# np.save(\"*\", y_pred.cpu().numpy())\n",
    "y_pred_mlp = np.load(\"*/y_pred_mlp_gtzan.npy\")"
   ]
  },
  {
   "cell_type": "code",
   "execution_count": null,
   "metadata": {},
   "outputs": [
    {
     "name": "stdout",
     "output_type": "stream",
     "text": [
      "Paired t-test: t = 8.562745154727587, p = 2.9552845609492437e-16\n",
      "Cohen's d: 0.495\n"
     ]
    },
    {
     "data": {
      "image/png": "[encoded data removed]",
      "text/plain": [
       "<Figure size 800x500 with 1 Axes>"
      ]
     },
     "metadata": {},
     "output_type": "display_data"
    }
   ],
   "source": [
    "from scipy.stats import ttest_rel\n",
    "from matplotlib.lines import Line2D\n",
    "\n",
    "# y_true = y_true\n",
    "y_pred_linear = y_pred.cpu().numpy()\n",
    "# y_pred_mlp = y_pred_mlp\n",
    "\n",
    "def get_corrs(y_true, y_pred):\n",
    "    return [np.corrcoef(y_true[i, :], y_pred[i, :])[0, 1] for i in range(y_true.shape[0])]\n",
    "\n",
    "corr_linear = get_corrs(y_true, y_pred_linear)\n",
    "corr_mlp = get_corrs(y_true, y_pred_mlp)\n",
    "\n",
    "mean_linear = np.mean(corr_linear)\n",
    "mean_mlp = np.mean(corr_mlp)\n",
    "\n",
    "t_stat, p_val = ttest_rel(corr_linear, corr_mlp, alternative='greater')\n",
    "print(f\"Paired t-test: t = {t_stat}, p = {p_val}\")\n",
    "\n",
    "diff = np.array(corr_linear) - np.array(corr_mlp)\n",
    "cohens_d = diff.mean() / diff.std()\n",
    "print(f\"Cohen's d: {cohens_d:.3f}\")\n",
    "\n",
    "plt.figure(figsize=(8, 5))\n",
    "plt.hist(corr_linear, bins=30, alpha=0.5, label='Linear', color='tab:blue')\n",
    "plt.hist(corr_mlp, bins=30, alpha=0.5, label='Non Linear', color='tab:orange')\n",
    "plt.axvline(mean_linear, color='tab:blue', linestyle='--', label=f'Linear Mean = {mean_linear:.3f}')\n",
    "plt.axvline(mean_mlp, color='tab:orange', linestyle='--', label=f'Non Linear Mean = {mean_mlp:.3f}')\n",
    "\n",
    "plt.title(\"Distribution of PC per Img Feature (Brain → Stimulus)\", fontsize=13)\n",
    "plt.xlabel(\"Pearson Correlation (r)\")\n",
    "plt.ylabel(\"Frequency\")\n",
    "\n",
    "stat_legend = [\n",
    "    Line2D([0], [0], color='none', label=f'p-value = {p_val:.2e}'),\n",
    "    Line2D([0], [0], color='none', label=f\"Cohen's d = {cohens_d:.2f}\")\n",
    "]\n",
    "\n",
    "handles, labels = plt.gca().get_legend_handles_labels()\n",
    "plt.legend(handles + stat_legend, labels + [h.get_label() for h in stat_legend])\n",
    "\n",
    "plt.grid(False)\n",
    "plt.tight_layout()\n",
    "plt.show()\n",
    "\n"
   ]
  },
  {
   "cell_type": "markdown",
   "metadata": {},
   "source": [
    "## Similarity Comparison"
   ]
  },
  {
   "cell_type": "code",
   "execution_count": 184,
   "metadata": {},
   "outputs": [],
   "source": [
    "from sklearn.preprocessing import StandardScaler\n",
    "\n",
    "def compute_cosine_matrix(real_embeddings, predicted_embeddings):\n",
    "\n",
    "    real_embeddings = torch.tensor(real_embeddings, dtype=torch.float32)\n",
    "    predicted_embeddings = torch.tensor(real_embeddings, dtype=torch.float32)\n",
    "    real_embeddings = torch.nn.functional.normalize(real_embeddings, dim=1)\n",
    "    predicted_embeddings = torch.nn.functional.normalize(predicted_embeddings, dim=1)\n",
    "    similarity_matrix = torch.mm(real_embeddings, predicted_embeddings.T)  # Matrice (num_real x num_pred)\n",
    "    \n",
    "    return similarity_matrix.numpy()\n",
    "\n",
    "\n",
    "def compute_normalized_similarities(y_pred, y_gt):\n",
    "    # Normalize by L2 norm\n",
    "    y_pred = torch.tensor(y_pred, dtype=torch.float32)\n",
    "    y_gt = torch.tensor(y_gt, dtype=torch.float32)\n",
    "    y_pred_norm = torch.nn.functional.normalize(y_pred, dim=1)\n",
    "    y_gt_norm = torch.nn.functional.normalize(y_gt, dim=1)\n",
    "\n",
    "    # Compute similarity\n",
    "    sims = y_pred_norm @ y_gt_norm.T\n",
    "\n",
    "    # Normalize similarities\n",
    "    scaler = StandardScaler()\n",
    "    sims_z = scaler.fit_transform(sims.cpu().numpy())\n",
    "\n",
    "    return sims, sims_z"
   ]
  },
  {
   "cell_type": "code",
   "execution_count": null,
   "metadata": {},
   "outputs": [],
   "source": [
    "feat_ridge_list = []\n",
    "feat_otcl_list = []\n",
    "feat_true_list = []\n",
    "\n",
    "for sub_i in range(3):\n",
    "\n",
    "    start_idx = sub_i * samples_per_subject\n",
    "    end_idx = (sub_i + 1) * samples_per_subject\n",
    "    feat_ridge_list.append(y_pred_sbj.float().cpu()[start_idx:end_idx])\n",
    "    feat_otcl_list.append(y_pred.cpu()[start_idx:end_idx])\n",
    "    feat_true_list.append(y_true.cpu()[start_idx:end_idx])\n",
    "\n",
    "feat_ridge_subj = np.stack(feat_ridge_list, axis=0).mean(axis=0)\n",
    "feat_true_subj = np.stack(feat_true_list, axis=0).mean(axis=0)\n",
    "feat_otcl_subj = np.stack(feat_otcl_list, axis=0).mean(axis=0)"
   ]
  },
  {
   "cell_type": "code",
   "execution_count": 187,
   "metadata": {},
   "outputs": [],
   "source": [
    "similarity_matrix_ot, _ = compute_normalized_similarities(feat_otcl_subj, feat_true_subj)\n",
    "similarity_matrix, _ = compute_normalized_similarities(feat_ridge_subj, feat_true_subj)"
   ]
  },
  {
   "cell_type": "code",
   "execution_count": 189,
   "metadata": {},
   "outputs": [
    {
     "data": {
      "image/png": "[encoded data removed]",
      "text/plain": [
       "<Figure size 1200x500 with 4 Axes>"
      ]
     },
     "metadata": {},
     "output_type": "display_data"
    }
   ],
   "source": [
    "import torch\n",
    "import torch.nn.functional as F\n",
    "import seaborn as sns\n",
    "\n",
    "sims_otcl_soft = F.softmax(torch.tensor(similarity_matrix_ot)/0.05, dim=1)\n",
    "sims_ridge_soft = F.softmax(torch.tensor(similarity_matrix)/0.05, dim=1)\n",
    "\n",
    "fig, axes = plt.subplots(1, 2, figsize=(12, 5))  # 1 riga, 2 colonne\n",
    "\n",
    "sns.heatmap(sims_ridge_soft, cmap='viridis', vmin=0, vmax=0.5, ax=axes[0])\n",
    "axes[0].set_title(\"Ridge Soft\")\n",
    "sns.heatmap(sims_otcl_soft, cmap='viridis', vmin=0, vmax=0.5, ax=axes[1])\n",
    "axes[1].set_title(\"CL Soft\")\n",
    "\n",
    "plt.tight_layout()\n",
    "plt.show()"
   ]
  },
  {
   "cell_type": "code",
   "execution_count": null,
   "metadata": {},
   "outputs": [],
   "source": []
  }
 ],
 "metadata": {
  "kernelspec": {
   "display_name": "speech-meg",
   "language": "python",
   "name": "python3"
  },
  "language_info": {
   "codemirror_mode": {
    "name": "ipython",
    "version": 3
   },
   "file_extension": ".py",
   "mimetype": "text/x-python",
   "name": "python",
   "nbconvert_exporter": "python",
   "pygments_lexer": "ipython3",
   "version": "3.9.16"
  }
 },
 "nbformat": 4,
 "nbformat_minor": 2
}
